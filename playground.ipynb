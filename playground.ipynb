{
 "cells": [
  {
   "cell_type": "code",
   "execution_count": 59,
   "id": "a913b31b-8018-4835-b6cd-03a42c8b2cf7",
   "metadata": {},
   "outputs": [],
   "source": [
    "from pycps import get_asec, get_basic\n",
    "\n",
    "BASIC_COLS = [\n",
    "    \"HEFAMINC\",  # Family income\n",
    "    \"PEEDUCA\",  # highest level of education\n",
    "    \"PESCHENR\",  # last week enrolled in school?\n",
    "    \"PESEX\",  # sex\n",
    "    \"PEMARITL\",  # marital\n",
    "    \"PUDIS\",  # disability status\n",
    "    \"PEDISPHY\",  # serious difficulty walking or climbing\n",
    "    \"PEDISDRS\",  # difficluty dressing or bathing\n",
    "    \"PEDISOUT\",  # physical, mental, or emotional condition, difficulty doing errands\n",
    "    \"PRDISFLG\",  # Any of these disability conditions?\n",
    "    \"PEHRUSL1\",  # hours per week at main job\n",
    "    \"PEHRUSL2\",  # hours per week at other job/jobs\n",
    "    \"PUABSOT\",  # last week have job?\n",
    "    \"PEMJOT\",  # more than one job?\n",
    "    \"PEMJNUM\",  # totally, how many job?\n",
    "    \"PEIO1COW\",  # 1st job class of worker code\n",
    "    \"PRDTIND1\",  # 1st job detailed industry\n",
    "    \"PRDTOCC1\",  # 1st job detailed occupation\n",
    "    \"PRMJIND1\",  # 1st job major industry recode\n",
    "    \"PWSSWGT\",  # person final weight\n",
    "    \"HRHHID\",  # household identifier 1\n",
    "    \"HRHHID2\",  # household identifier 2\n",
    "]\n",
    "\n",
    "ASEC_COLS = [\n",
    "    \"H_IDNUM\",\n",
    "    \"HEFAMINC\",  # family income from CPS recode\n",
    "    \"PEARNVAL\",  # total persons earnings\n",
    "    \"PTOT_R\",  # total person income recode\n",
    "    \"GTCBSASZ\",  # metropolitan area size\n",
    "    \"GTCO\",  # fips county code\n",
    "    \"GESTFIPS\",  # fips state code\n",
    "    \"A_AGE\",  # person age\n",
    "    \"DSAB_VAL\",  # disability income\n",
    "    \"PRDTRACE\",  # race\n",
    "    \"PEDISPHY\",  # serious difficulty walking or climbing\n",
    "    \"PEDISDRS\",  # difficluty dressing or bathing\n",
    "    \"PEDISOUT\",  # physical, mental, or emotional condition, difficulty doing errands\n",
    "    \"HRSWK\",  # hours per week at main job\n",
    "]\n"
   ]
  },
  {
   "cell_type": "code",
   "execution_count": 66,
   "id": "cc0dae00-4262-43c8-9c9e-cf95571418d8",
   "metadata": {},
   "outputs": [],
   "source": [
    "asec = get_asec(2019, ASEC_COLS)"
   ]
  },
  {
   "cell_type": "code",
   "execution_count": 62,
   "id": "b9f03394-4911-413b-9aad-305bf67242c8",
   "metadata": {},
   "outputs": [
    {
     "data": {
      "text/plain": [
       "{'1466630585115011',\n",
       " '21227592238715012',\n",
       " '4706116780815011',\n",
       " '479511071915011',\n",
       " '6704340608115011',\n",
       " '701711810415011',\n",
       " '7669100594115011',\n",
       " '7759110694115011',\n",
       " '7859110094115111',\n",
       " '817851016515011'}"
      ]
     },
     "execution_count": 62,
     "metadata": {},
     "output_type": "execute_result"
    }
   ],
   "source": [
    "basic = get_basic(2024, 1, BASIC_COLS)\n",
    "\n",
    "set(asec[\"h_idnum\"]) & set(basic[\"hrhhid\"].astype(str) + basic[\"hrhhid2\"].astype(str))"
   ]
  },
  {
   "cell_type": "code",
   "execution_count": 50,
   "id": "4d2ecf54-4f0b-419b-8bff-1f8ff61be9f5",
   "metadata": {},
   "outputs": [
    {
     "data": {
      "text/plain": [
       "<Axes: >"
      ]
     },
     "execution_count": 50,
     "metadata": {},
     "output_type": "execute_result"
    },
    {
     "data": {
      "image/png": "[encoded data removed]",
      "text/plain": [
       "<Figure size 640x480 with 1 Axes>"
      ]
     },
     "metadata": {},
     "output_type": "display_data"
    }
   ],
   "source": [
    "asec[asec[\"gestfips\"] == 13][\"pearnval\"].hist()"
   ]
  },
  {
   "cell_type": "code",
   "execution_count": null,
   "id": "ef72b4a2-4dd2-49eb-97e1-311943411e75",
   "metadata": {},
   "outputs": [],
   "source": []
  }
 ],
 "metadata": {
  "kernelspec": {
   "display_name": "Python 3 (ipykernel)",
   "language": "python",
   "name": "python3"
  },
  "language_info": {
   "codemirror_mode": {
    "name": "ipython",
    "version": 3
   },
   "file_extension": ".py",
   "mimetype": "text/x-python",
   "name": "python",
   "nbconvert_exporter": "python",
   "pygments_lexer": "ipython3",
   "version": "3.10.10"
  }
 },
 "nbformat": 4,
 "nbformat_minor": 5
}
